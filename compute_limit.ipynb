{
 "cells": [
  {
   "cell_type": "code",
   "execution_count": 5,
   "id": "08bc919b-819e-49b3-8f04-c9844c26d3ec",
   "metadata": {
    "tags": []
   },
   "outputs": [],
   "source": [
    "from scipy.optimize import curve_fit\n",
    "from functools import wraps\n",
    "import matplotlib.pyplot as plt\n",
    "from matplotlib.patches import Patch\n",
    "from matplotlib.lines import Line2D\n",
    "\n",
    "import scipy\n",
    "from scipy.stats import chi2\n",
    "\n",
    "from coffea.util import load\n",
    "\n",
    "import json\n",
    "import numpy as np"
   ]
  },
  {
   "cell_type": "code",
   "execution_count": 6,
   "id": "df426ea1-16e5-4d68-95dc-82581536567b",
   "metadata": {
    "tags": []
   },
   "outputs": [],
   "source": [
    "class HepDataParser:\n",
    "    \"\"\"\n",
    "    A class to parse HEPData JSON files and extract cross sections, errors, \n",
    "    and correlation matrices.\n",
    "    \"\"\"\n",
    "    \n",
    "    def __init__(self):\n",
    "        pass\n",
    "        \n",
    "    @staticmethod\n",
    "    def parse_cross_section(json_file_path):\n",
    "        \"\"\"\n",
    "        Parses the main cross section JSON file to extract:\n",
    "        - Bin edges\n",
    "        - Central values (observed cross section)\n",
    "        - Statistical errors\n",
    "        - Systematic errors\n",
    "        \n",
    "        Returns:\n",
    "            dict: Dictionary with 'bins', 'values', 'stat_errors', 'syst_errors'\n",
    "        \"\"\"\n",
    "        with open(json_file_path, 'r') as f:\n",
    "            data = json.load(f)\n",
    "        \n",
    "        result = {'bins': [], 'values': [], 'stat_errors': [], 'syst_errors': []}\n",
    "        \n",
    "        for entry in data['values']:\n",
    "            # Extract bin edges\n",
    "            bin_low = entry['x'][0]['low']\n",
    "            bin_high = entry['x'][0]['high']\n",
    "            result['bins'].append((float(bin_low), float(bin_high)))\n",
    "            \n",
    "            # Extract central value\n",
    "            result['values'].append(float(entry['y'][0]['value']))\n",
    "            \n",
    "            # Extract errors\n",
    "            for error in entry['y'][0]['errors']:\n",
    "                if error.get('label') == 'stat':\n",
    "                    result['stat_errors'].append(float(error['symerror']))\n",
    "                elif error.get('label') == 'syst':\n",
    "                    result['syst_errors'].append(float(error['symerror']))\n",
    "        \n",
    "        # Convert to numpy arrays\n",
    "        for key in ['values', 'stat_errors', 'syst_errors']:\n",
    "            result[key] = np.array(result[key])\n",
    "            \n",
    "        return result\n",
    "\n",
    "    @staticmethod\n",
    "    def parse_correlation_matrix(json_file_path, bins):\n",
    "        \"\"\"\n",
    "        Parses the correlation matrix JSON file and constructs a proper matrix.\n",
    "        \n",
    "        Returns:\n",
    "            np.ndarray: Correlation matrix of shape (n_bins, n_bins)\n",
    "        \"\"\"\n",
    "        with open(json_file_path, 'r') as f:\n",
    "            data = json.load(f)\n",
    "        \n",
    "        # Initialize correlation matrix\n",
    "        n_bins = len(bins)\n",
    "        corr_matrix = np.eye(n_bins)\n",
    "        \n",
    "        # Create a mapping from bin ranges to indices\n",
    "        bin_to_index = {}\n",
    "        for idx, (low, high) in enumerate(bins):\n",
    "            bin_to_index[(low, high)] = idx\n",
    "        \n",
    "        # Fill the correlation matrix from the JSON data\n",
    "        for entry in data['values']:\n",
    "            # Get bin ranges from the x values\n",
    "            x_bins = entry['x']\n",
    "            bin1 = (float(x_bins[0]['low']), float(x_bins[0]['high']))\n",
    "            bin2 = (float(x_bins[1]['low']), float(x_bins[1]['high']))\n",
    "            \n",
    "            # Get the correlation value and convert from percentage to fraction\n",
    "            correlation_value = float(entry['y'][0]['value']) / 100.0\n",
    "            \n",
    "            # Find the indices for these bins\n",
    "            if bin1 in bin_to_index and bin2 in bin_to_index:\n",
    "                i = bin_to_index[bin1]\n",
    "                j = bin_to_index[bin2]\n",
    "                corr_matrix[i, j] = correlation_value\n",
    "                corr_matrix[j, i] = correlation_value  # Symmetric matrix\n",
    "        \n",
    "        return corr_matrix\n",
    "    \n",
    "    @staticmethod\n",
    "    def build_covariance_matrix(errors, correlation_matrix):\n",
    "        \"\"\"\n",
    "        Builds covariance matrix from errors and correlation matrix.\n",
    "        \n",
    "        Args:\n",
    "            errors (np.array): Array of errors (statistical or systematic)\n",
    "            correlation_matrix (np.ndarray): Correlation matrix\n",
    "            \n",
    "        Returns:\n",
    "            np.ndarray: Covariance matrix\n",
    "        \"\"\"\n",
    "        n_bins = len(errors)\n",
    "        covariance_matrix = np.zeros((n_bins, n_bins))\n",
    "        \n",
    "        for i in range(n_bins):\n",
    "            for j in range(n_bins):\n",
    "                covariance_matrix[i, j] = errors[i] * errors[j] * correlation_matrix[i, j]\n",
    "        \n",
    "        return covariance_matrix\n",
    "    \n",
    "    def get_inverse_covariance_matrix(self):\n",
    "        pt_data = HepDataParser.parse_cross_section(\"json_files/diff_xsec_photon_pt.json\")\n",
    "        bins_pt = pt_data['bins']\n",
    "        corr_stat_pt = HepDataParser.parse_correlation_matrix(\"json_files/stat_corr_pt.json\", bins_pt)\n",
    "        corr_syst_pt = HepDataParser.parse_correlation_matrix(\"json_files/syst_corr_pt.json\", bins_pt)\n",
    "        V_stat_pt = HepDataParser.build_covariance_matrix(pt_data['stat_errors'], corr_stat_pt)\n",
    "        V_syst_pt = HepDataParser.build_covariance_matrix(pt_data['syst_errors'], corr_syst_pt)\n",
    "        V_pt = V_stat_pt + V_syst_pt\n",
    "        V_pt\n",
    "        \n",
    "        deltaphi_data = HepDataParser.parse_cross_section(\"json_files/deltaphi_ll.json\")\n",
    "        bins_deltaphi = deltaphi_data['bins']\n",
    "        corr_stat_deltaphi = HepDataParser.parse_correlation_matrix(\"json_files/stat_corr_deltaphi.json\", bins_deltaphi)\n",
    "        corr_syst_deltaphi = HepDataParser.parse_correlation_matrix(\"json_files/syst_corr_deltaphi.json\", bins_deltaphi)\n",
    "        V_stat_deltaphi = HepDataParser.build_covariance_matrix(deltaphi_data['stat_errors'], corr_stat_deltaphi)\n",
    "        V_syst_deltaphi = HepDataParser.build_covariance_matrix(deltaphi_data['syst_errors'], corr_syst_deltaphi)\n",
    "        V_deltaphi = V_stat_deltaphi + V_syst_deltaphi\n",
    "        V_deltaphi\n",
    "        \n",
    "        # Construct the full data vector and covariance matrix\n",
    "        # Since cross-observable correlations are not published, we assume block diagonal\n",
    "        self.y_data = np.concatenate([pt_data['values'], deltaphi_data['values']])\n",
    "        self.V = scipy.linalg.block_diag(V_pt, V_deltaphi)\n",
    "        \n",
    "        # Precompute the inverse covariance matrix for chi2 calculation\n",
    "        self.V_inv = np.linalg.inv(self.V)\n",
    "        \n",
    "        return self.V_inv"
   ]
  },
  {
   "cell_type": "code",
   "execution_count": 9,
   "id": "6e937435-c182-45df-bb19-a429dc0215d7",
   "metadata": {
    "tags": []
   },
   "outputs": [],
   "source": [
    "class ComputeLimit:\n",
    "    xsec_TT = 1\n",
    "    def __init__(self, mass):\n",
    "        self.output = load(\"output/output.coffea\")\n",
    "        self.mass = mass\n",
    "\n",
    "    def compute_prefactor(self, width, coupling):\n",
    "        return width/(coupling**2)\n",
    "\n",
    "    def fit_decorator(func):\n",
    "        @wraps(func)\n",
    "        def wrapper(self, x, y, **kwarg):\n",
    "            def fitting_function(x_data, a):\n",
    "                return func(self, x_data, a)\n",
    "            return curve_fit(fitting_function, x, y, **kwarg)\n",
    "        return wrapper\n",
    "\n",
    "    @fit_decorator\n",
    "    def fit_prefactor(self, x, a):\n",
    "        return a * x\n",
    "\n",
    "    def compute_fiducial_acceptance(self, hist_name, mass):\n",
    "        dataset = list(self.output[\"hists\"][\"total\"][hist_name][mass].keys())[0]\n",
    "        hist = list(self.output[\"hists\"][\"total\"][hist_name][mass].values())[0]\n",
    "        values = hist.values()\n",
    "        xsec = self.output[\"metadata\"][mass][dataset][\"xsec\"]\n",
    "        lumi = 138\n",
    "        \n",
    "        return values/(xsec * lumi)\n",
    "    \n",
    "    def compute_branching_ratios(self, g3g, g3gamma):\n",
    "        \"\"\"\n",
    "        Calculates branching ratios B_g and B_gamma for given couplings.\n",
    "        This uses the formulas from the paper and the prefactors you calculated.\n",
    "\n",
    "        Args:\n",
    "            g3g (float): Dipole coupling to gluons\n",
    "            g3gamma (float): Dipole coupling to photons\n",
    "\n",
    "        Returns:\n",
    "            tuple: (B_g, B_gamma) branching ratios.\n",
    "        \"\"\"\n",
    "        \n",
    "        ggluon2 = []\n",
    "        ggamma2 = []\n",
    "        width_gamma = []\n",
    "        width_gluon = []\n",
    "        width_wb = []\n",
    "        for dataset, metadata in self.output[\"metadata\"][self.mass].items():\n",
    "            ggluon2.append((metadata[\"gluonFlag\"] * metadata[\"fvec3\"])**2)\n",
    "            ggamma2.append((metadata[\"gammaFlag\"] * metadata[\"fvec3\"])**2)\n",
    "            width_gamma.append(metadata[\"width_T_ta\"])\n",
    "            width_gluon.append(metadata[\"width_T_tg\"])\n",
    "            width_wb.append(metadata[\"width_T_wb\"])\n",
    "        \n",
    "        # Calculate prefactor\n",
    "        xt = (173.0 / self.mass) ** 2  # xt = (mt / mT)^2\n",
    "        width_factor = ((self.mass ** 3) / (3000 ** 2)) * (1 - xt) ** 3  # Lambda = 3000 GeV (3 TeV)\n",
    "        gamma_width_factor = width_factor * np.array(ggamma2)\n",
    "        gluon_width_factor = width_factor * np.array(ggluon2)\n",
    "        \n",
    "        gluon_prefactor = self.fit_prefactor(gluon_width_factor, width_gluon)[0][0]\n",
    "        gamma_prefactor = self.fit_prefactor(gamma_width_factor, width_gamma)[0][0]\n",
    "        wb_prefactor = curve_fit(lambda x, a: a * x, ggamma2, width_wb)[0][0]  # width_T_wb = prefactor * fvec3**2 and fvec3 = ggamma/gluonFlag\n",
    "\n",
    "        Gamma_tg = gluon_prefactor * width_factor * (g3g ** 2)\n",
    "        Gamma_tgamma = gamma_prefactor * width_factor * (g3gamma ** 2)\n",
    "        Gamma_wb = wb_prefactor * (g3gamma ** 2)\n",
    "\n",
    "        # Assuming these are the only decay channels\n",
    "        Gamma_total = Gamma_tg + Gamma_tgamma + Gamma_wb\n",
    "\n",
    "        # Calculate Branching Ratios\n",
    "        B_g = Gamma_tg / Gamma_total\n",
    "        B_gamma = Gamma_tgamma / Gamma_total\n",
    "\n",
    "        return B_g, B_gamma\n",
    "        \n",
    "    def get_signal_vector(self, g3g, g3gamma):\n",
    "        \"\"\"\n",
    "        Constructs the signal prediction vector s for given couplings.\n",
    "        (Eq. 7 in the paper)\n",
    "\n",
    "        Args:\n",
    "            g3g (float): Dipole coupling to gluons\n",
    "            g3gamma (float): Dipole coupling to photons\n",
    "\n",
    "        Returns:\n",
    "            np.array: Signal vector s (concatenated pT_gamma and DeltaPhi_ll bins)\n",
    "        \"\"\"\n",
    "        # 1. Get the branching ratios\n",
    "        B_g, B_gamma = self.compute_branching_ratios(g3g, g3gamma)\n",
    "        f1gamma = 2 * B_gamma * B_g  # Probability for 1 gamma in TTbar event\n",
    "\n",
    "        # 2. Get the normalized template shapes for a reference coupling (1, 1)\n",
    "        # The shape is assumed to be independent of the coupling strength, only the normalisation changes.\n",
    "        # This is a key assumption from the paper (afid is precomputed from MC).\n",
    "        fiducial_acceptance_pt = self.compute_fiducial_acceptance(\"diff_xsec_photon_pt\", self.mass)\n",
    "        fiducial_acceptance_deltaphi = self.compute_fiducial_acceptance(\"deltaphi_ll\", self.mass)\n",
    "\n",
    "        # 3. Calculate the predicted fiducial cross section in each bin\n",
    "        # sigma_X,i_fid = sigma_pair * f1gamma * a_X,i_fid\n",
    "        ggluon2 = []\n",
    "        xsec_TT = []\n",
    "        for dataset, metadata in self.output[\"metadata\"][self.mass].items():\n",
    "            ggluon2.append((metadata[\"gluonFlag\"] * metadata[\"fvec3\"])**2)\n",
    "            xsec_TT.append(metadata[\"xsec_TT\"])\n",
    "        # sigma_TT = a + b * g3g ** 2 + c * g3g ** 4\n",
    "        xsec_TT_prefactors = curve_fit(lambda x, a, b, c: a + b * x + c * x **2, ggluon2, xsec_TT)\n",
    "        sigma_TT = xsec_TT_prefactors[0][0] + xsec_TT_prefactors[0][1] * g3g ** 2 + xsec_TT_prefactors[0][2] * g3g **4\n",
    "        \n",
    "        \n",
    "        s_pT = sigma_TT * f1gamma * fiducial_acceptance_pt\n",
    "        s_dphi = sigma_TT * f1gamma * fiducial_acceptance_deltaphi\n",
    "\n",
    "        # 4. Concatenate the vectors to form the full signal prediction\n",
    "        s_total = np.concatenate([s_pT, s_dphi])\n",
    "        return s_total\n",
    "        \n",
    "    def chi2(self, g3g, g3gamma):\n",
    "        \"\"\"\n",
    "        Calculates the chi2 test statistic for given couplings.\n",
    "        (Eq. 8 in the paper: s^T V^{-1} s)\n",
    "\n",
    "        Args:\n",
    "            g3g (float): Dipole coupling to gluons\n",
    "            g3gamma (float): Dipole coupling to photons\n",
    "\n",
    "        Returns:\n",
    "            float: The chi2 value.\n",
    "        \"\"\"\n",
    "        s_vec = self.get_signal_vector(g3g, g3gamma)\n",
    "        # The paper assumes the SM is the null hypothesis (data = 0),\n",
    "        # and s is the NP signal prediction.\n",
    "        V_inv = HepDataParser().get_inverse_covariance_matrix()\n",
    "        chi2_val = s_vec @ V_inv @ s_vec\n",
    "        return chi2_val\n",
    "    \n",
    "    def plot(func):\n",
    "        @wraps(func)\n",
    "        def wrapper(self, **kwargs):\n",
    "            X, Y, Z = func(self, **kwargs)\n",
    "            plt.figure(figsize=(8, 6))\n",
    "            plt.contourf(X, Y, Z, levels=[chi2.ppf(0.95, df=11), Z.max()], colors=['lightcoral'])\n",
    "            plt.contour(X, Y, Z, levels=[chi2.ppf(0.95, df=11)], colors='black', linewidths=2)\n",
    "            \n",
    "            legend_elements = [\n",
    "                Patch(facecolor='lightcoral', alpha=0.7, label='$\\chi^2 > 5.99$'),\n",
    "                Line2D([0], [0], color='black', linewidth=2, label='$\\chi^2 = 5.99$ (95% CL)')\n",
    "            ]\n",
    "            plt.xlabel('$g_{3g}$')\n",
    "            plt.ylabel('$g_{3\\\\gamma}$')\n",
    "            plt.title(f'95% CL Exclusion Contour for mT = {self.mass} GeV')\n",
    "            plt.legend(handles=legend_elements)\n",
    "            plt.savefig(\"plots/limit.png\")\n",
    "            plt.show()\n",
    "        return wrapper\n",
    "            \n",
    "    \n",
    "    @plot\n",
    "    def find_contour(self, g3g_range=(-30, 30), g3gamma_range=(-30, 30), n_points=50):\n",
    "        \"\"\"\n",
    "        Scans the (g3g, g3gamma) parameter space and finds the 95% CL contour.\n",
    "\n",
    "        Args:\n",
    "            g3g_range (tuple): (min, max) range for g3g scan.\n",
    "            g3gamma_range (tuple): (min, max) range for g3gamma scan.\n",
    "            n_points (int): Number of points along each axis.\n",
    "\n",
    "        Returns:\n",
    "            tuple: (X, Y, Z) meshgrid arrays and the chi2 values on the grid.\n",
    "        \"\"\"\n",
    "        g3g_vals = np.linspace(g3g_range[0], g3g_range[1], n_points)\n",
    "        g3gamma_vals = np.linspace(g3gamma_range[0], g3gamma_range[1], n_points)\n",
    "        G3g, G3gamma = np.meshgrid(g3g_vals, g3gamma_vals)\n",
    "        Chi2Grid = np.zeros_like(G3g)\n",
    "\n",
    "        # Calculate chi2 for each point in the grid\n",
    "        for i, g3g_val in enumerate(g3g_vals):\n",
    "            for j, g3gamma_val in enumerate(g3gamma_vals):\n",
    "                # Avoid (0, 0) to prevent division by zero in BR calculation\n",
    "                if g3g_val == 0 and g3gamma_val == 0:\n",
    "                    Chi2Grid[j, i] = 0\n",
    "                else:\n",
    "                    Chi2Grid[j, i] = self.chi2(g3g_val, g3gamma_val)\n",
    "\n",
    "        return G3g, G3gamma, Chi2Grid\n",
    "        "
   ]
  },
  {
   "cell_type": "code",
   "execution_count": 10,
   "id": "0899130c-3ab6-4b48-9c00-677ba6a10ca4",
   "metadata": {
    "tags": []
   },
   "outputs": [
    {
     "data": {
      "image/png": "[encoded data removed]",
      "text/plain": [
       "<Figure size 800x600 with 1 Axes>"
      ]
     },
     "metadata": {},
     "output_type": "display_data"
    },
    {
     "data": {
      "text/plain": [
       "0.0034208505721955"
      ]
     },
     "execution_count": 10,
     "metadata": {},
     "output_type": "execute_result"
    }
   ],
   "source": [
    "compute_limit = ComputeLimit(1000)\n",
    "# output = load(\"output/output.coffea\")\n",
    "# ggluon2 = []\n",
    "# ggamma2 = []\n",
    "# width_gamma = []\n",
    "# width_gluon = []\n",
    "# for dataset, metadata in output[\"metadata\"][1000].items():\n",
    "#     ggluon2.append((metadata[\"gluonFlag\"] * metadata[\"fvec3\"])**2)\n",
    "#     ggamma2.append((metadata[\"gammaFlag\"] * metadata[\"fvec3\"])**2)\n",
    "#     width_gamma.append(metadata[\"width_T_ta\"])\n",
    "#     width_gluon.append(metadata[\"width_T_tg\"])\n",
    "\n",
    "# # Calculate prefactor\n",
    "# xt = (173.0 / 1000) ** 2  # xt = (mt / mT)^2\n",
    "# width_factor = ((1000 ** 3) / (3000 ** 2)) * (1 - xt) ** 3  # Lambda = 3000 GeV (3 TeV)\n",
    "# gamma_width_factor = width_factor * np.array(ggamma2)\n",
    "# gluon_width_factor = width_factor * np.array(ggluon2)\n",
    "\n",
    "# gluon_prefactor = compute_limit.fit_prefactor(gluon_width_factor, width_gluon)\n",
    "# gamma_prefactor = compute_limit.fit_prefactor(gamma_width_factor, width_gamma)\n",
    "# print(gluon_prefactor[0][0])\n",
    "# print(gamma_prefactor)\n",
    "\n",
    "compute_limit.find_contour()\n",
    "compute_limit.chi2(3, 3)"
   ]
  },
  {
   "cell_type": "code",
   "execution_count": 38,
   "id": "82029660-d758-4913-9d88-246140a7e0fb",
   "metadata": {
    "tags": []
   },
   "outputs": [],
   "source": [
    "class ComputeLimit:\n",
    "    xsec_TT = 1\n",
    "    def __init__(self, mass):\n",
    "        self.output = load(\"output/output.coffea\")\n",
    "        self.mass = mass\n",
    "\n",
    "    def compute_prefactor(self, width, coupling):\n",
    "        return width/(coupling**2)\n",
    "\n",
    "    def fit_decorator(func):\n",
    "        @wraps(func)\n",
    "        def wrapper(self, x, y, **kwarg):\n",
    "            def fitting_function(x_data, a):\n",
    "                return func(self, x_data, a)\n",
    "            return curve_fit(fitting_function, x, y, **kwarg)\n",
    "        return wrapper\n",
    "\n",
    "    @fit_decorator\n",
    "    def fit_prefactor(self, x, a):\n",
    "        return a * x\n",
    "\n",
    "    def compute_fiducial_acceptance(self, hist_name, mass):\n",
    "        dataset = list(self.output[\"hists\"][\"total\"][hist_name][mass].keys())[0]\n",
    "        hist = list(self.output[\"hists\"][\"total\"][hist_name][mass].values())[0]\n",
    "        values = hist.values()\n",
    "        xsec = self.output[\"metadata\"][mass][dataset][\"xsec\"]\n",
    "        lumi = 138\n",
    "        \n",
    "        return values/(xsec * lumi)\n",
    "    \n",
    "    def compute_branching_ratios(self, g3g, g3gamma):\n",
    "        \"\"\"\n",
    "        Calculates branching ratios B_g and B_gamma for given couplings.\n",
    "        This uses the formulas from the paper and the prefactors you calculated.\n",
    "\n",
    "        Args:\n",
    "            g3g (float): Dipole coupling to gluons\n",
    "            g3gamma (float): Dipole coupling to photons\n",
    "\n",
    "        Returns:\n",
    "            tuple: (B_g, B_gamma) branching ratios.\n",
    "        \"\"\"\n",
    "        \n",
    "        ggluon2 = []\n",
    "        ggamma2 = []\n",
    "        width_gamma = []\n",
    "        width_gluon = []\n",
    "        width_wb = []\n",
    "        for dataset, metadata in self.output[\"metadata\"][self.mass].items():\n",
    "            ggluon2.append((metadata[\"gluonFlag\"] * metadata[\"fvec3\"])**2)\n",
    "            ggamma2.append((metadata[\"gammaFlag\"] * metadata[\"fvec3\"])**2)\n",
    "            width_gamma.append(metadata[\"width_T_ta\"])\n",
    "            width_gluon.append(metadata[\"width_T_tg\"])\n",
    "            width_wb.append(metadata[\"width_T_wb\"])\n",
    "        \n",
    "        # Calculate prefactor\n",
    "        # xt = (173.0 / self.mass) ** 2  # xt = (mt / mT)^2\n",
    "        # width_factor = ((self.mass ** 3) / (3000 ** 2)) * (1 - xt) ** 3  # Lambda = 3000 GeV (3 TeV)\n",
    "        # gamma_width_factor = width_factor * np.array(ggamma2)/(3000**2)\n",
    "        # gluon_width_factor = width_factor * np.array(ggluon2)/(3000**2)\n",
    "        \n",
    "        gluon_prefactor = self.fit_prefactor(np.array(ggluon2)/(3**2), width_gluon)[0][0]\n",
    "        gamma_prefactor = self.fit_prefactor(np.array(ggamma2)/(3**2), width_gamma)[0][0]\n",
    "        wb_prefactor = curve_fit(lambda x, a: a * x, np.array(ggamma2)/(3**2), width_wb)[0][0]  # width_T_wb = prefactor * fvec3**2 and fvec3 = ggamma/gluonFlag\n",
    "\n",
    "        Gamma_tg = gluon_prefactor * (g3g ** 2)\n",
    "        Gamma_tgamma = gamma_prefactor * (g3gamma ** 2)\n",
    "        Gamma_wb = wb_prefactor * (g3gamma ** 2)\n",
    "\n",
    "        # Assuming these are the only decay channels\n",
    "        Gamma_total = Gamma_tg + Gamma_tgamma + Gamma_wb\n",
    "\n",
    "        # Calculate Branching Ratios\n",
    "        B_g = Gamma_tg / Gamma_total\n",
    "        B_gamma = Gamma_tgamma / Gamma_total\n",
    "\n",
    "        return B_g, B_gamma\n",
    "        \n",
    "    def get_signal_vector(self, g3g, g3gamma):\n",
    "        \"\"\"\n",
    "        Constructs the signal prediction vector s for given couplings.\n",
    "        (Eq. 7 in the paper)\n",
    "\n",
    "        Args:\n",
    "            g3g (float): Dipole coupling to gluons\n",
    "            g3gamma (float): Dipole coupling to photons\n",
    "\n",
    "        Returns:\n",
    "            np.array: Signal vector s (concatenated pT_gamma and DeltaPhi_ll bins)\n",
    "        \"\"\"\n",
    "        # 1. Get the branching ratios\n",
    "        B_g, B_gamma = self.compute_branching_ratios(g3g, g3gamma)\n",
    "        f1gamma = 2 * B_gamma * B_g  # Probability for 1 gamma in TTbar event\n",
    "\n",
    "        # 2. Get the normalized template shapes for a reference coupling (1, 1)\n",
    "        # The shape is assumed to be independent of the coupling strength, only the normalisation changes.\n",
    "        # This is a key assumption from the paper (afid is precomputed from MC).\n",
    "        fiducial_acceptance_pt = self.compute_fiducial_acceptance(\"diff_xsec_photon_pt\", self.mass)\n",
    "        fiducial_acceptance_deltaphi = self.compute_fiducial_acceptance(\"deltaphi_ll\", self.mass)\n",
    "\n",
    "        # 3. Calculate the predicted fiducial cross section in each bin\n",
    "        # sigma_X,i_fid = sigma_pair * f1gamma * a_X,i_fid\n",
    "        ggluon2 = []\n",
    "        xsec_TT = []\n",
    "        for dataset, metadata in self.output[\"metadata\"][self.mass].items():\n",
    "            ggluon2.append((metadata[\"gluonFlag\"] * metadata[\"fvec3\"])**2)\n",
    "            xsec_TT.append(metadata[\"xsec_TT\"])\n",
    "        # sigma_TT = a + b * g3g ** 2 + c * g3g ** 4\n",
    "        xsec_TT_prefactors = curve_fit(lambda x, a, b, c: a + b * x + c * x **2, np.array(ggluon2)/(3**2), xsec_TT)\n",
    "        sigma_TT = xsec_TT_prefactors[0][0] + xsec_TT_prefactors[0][1] * g3g ** 2 + xsec_TT_prefactors[0][2] * g3g **4\n",
    "        \n",
    "        sigma_TT_fb = sigma_TT * 1000\n",
    "        s_pT = sigma_TT_fb * f1gamma * fiducial_acceptance_pt\n",
    "        s_dphi = sigma_TT_fb * f1gamma * fiducial_acceptance_deltaphi\n",
    "\n",
    "        # 4. Concatenate the vectors to form the full signal prediction\n",
    "        s_total = np.concatenate([s_pT, s_dphi])\n",
    "        return s_total\n",
    "        \n",
    "    def chi_square(self, g3g, g3gamma):\n",
    "        \"\"\"\n",
    "        Calculates the chi2 test statistic for given couplings.\n",
    "        (Eq. 8 in the paper: s^T V^{-1} s)\n",
    "\n",
    "        Args:\n",
    "            g3g (float): Dipole coupling to gluons\n",
    "            g3gamma (float): Dipole coupling to photons\n",
    "\n",
    "        Returns:\n",
    "            float: The chi2 value.\n",
    "        \"\"\"\n",
    "        s_vec = self.get_signal_vector(g3g, g3gamma)\n",
    "        # The paper assumes the SM is the null hypothesis (data = 0),\n",
    "        # and s is the NP signal prediction.\n",
    "        V_inv = HepDataParser().get_inverse_covariance_matrix()\n",
    "        chi2_val = s_vec @ V_inv @ s_vec\n",
    "        return chi2_val\n",
    "    \n",
    "    def plot(func):\n",
    "        @wraps(func)\n",
    "        def wrapper(self, chi2_critical=chi2.ppf(0.95, df=11), **kwargs):\n",
    "            X, Y, Z = func(self, **kwargs)\n",
    "            plt.figure(figsize=(8, 6))\n",
    "            plt.contourf(X, Y, Z, levels=[chi2_critical, Z.max()], colors=['lightcoral'])\n",
    "            plt.contour(X, Y, Z, levels=[chi2_critical], colors='black', linewidths=2)\n",
    "            \n",
    "            legend_elements = [\n",
    "                Patch(facecolor='lightcoral', alpha=0.7, label=f'$\\chi^2 > {chi2_critical:.2f}$'),\n",
    "                Line2D([0], [0], color='black', linewidth=2, label=f'$\\chi^2 = {chi2_critical:.2f}$ (95% CL)')\n",
    "            ]\n",
    "            plt.xlabel('$g_{3g} (\\mathrm{TeV^{-1}})$')\n",
    "            plt.ylabel('$g_{3\\\\gamma} (\\mathrm{TeV^{-1}})$')\n",
    "            plt.title(f'95% CL Exclusion Contour for mT = {self.mass} GeV')\n",
    "            plt.grid()\n",
    "            plt.legend(handles=legend_elements)\n",
    "            plt.savefig(\"plots/limit_landa.png\")\n",
    "            plt.savefig('plots/limit_landa.svg', format='svg', dpi=1200)\n",
    "            plt.show()\n",
    "        return wrapper\n",
    "            \n",
    "    \n",
    "    @plot\n",
    "    def find_contour(self, g3g_range=(-2.5, 2.5), g3gamma_range=(-2.5, 2.5), n_points=150):\n",
    "        \"\"\"\n",
    "        Scans the (g3g, g3gamma) parameter space and finds the 95% CL contour.\n",
    "\n",
    "        Args:\n",
    "            g3g_range (tuple): (min, max) range for g3g scan.\n",
    "            g3gamma_range (tuple): (min, max) range for g3gamma scan.\n",
    "            n_points (int): Number of points along each axis.\n",
    "\n",
    "        Returns:\n",
    "            tuple: (X, Y, Z) meshgrid arrays and the chi2 values on the grid.\n",
    "        \"\"\"\n",
    "        g3g_vals = np.linspace(g3g_range[0], g3g_range[1], n_points)\n",
    "        g3gamma_vals = np.linspace(g3gamma_range[0], g3gamma_range[1], n_points)\n",
    "        G3g, G3gamma = np.meshgrid(g3g_vals, g3gamma_vals)\n",
    "        Chi2Grid = np.zeros_like(G3g)\n",
    "\n",
    "        # Calculate chi2 for each point in the grid\n",
    "        for i, g3g_val in enumerate(g3g_vals):\n",
    "            for j, g3gamma_val in enumerate(g3gamma_vals):\n",
    "                # Avoid (0, 0) to prevent division by zero in BR calculation\n",
    "                if g3g_val == 0 and g3gamma_val == 0:\n",
    "                    Chi2Grid[j, i] = 0\n",
    "                else:\n",
    "                    Chi2Grid[j, i] = self.chi_square(g3g_val, g3gamma_val)\n",
    "\n",
    "        return G3g, G3gamma, Chi2Grid\n",
    "        "
   ]
  },
  {
   "cell_type": "code",
   "execution_count": 39,
   "id": "8fb1228c-43d2-41f4-8deb-8bfeb88cd2be",
   "metadata": {
    "tags": []
   },
   "outputs": [
    {
     "data": {
      "image/png": "[encoded data removed]",
      "text/plain": [
       "<Figure size 800x600 with 1 Axes>"
      ]
     },
     "metadata": {},
     "output_type": "display_data"
    }
   ],
   "source": [
    "compute_limit = ComputeLimit(1000)\n",
    "# output = load(\"output/output.coffea\")\n",
    "# ggluon2 = []\n",
    "# ggamma2 = []\n",
    "# width_gamma = []\n",
    "# width_gluon = []\n",
    "# for dataset, metadata in output[\"metadata\"][1000].items():\n",
    "#     ggluon2.append((metadata[\"gluonFlag\"] * metadata[\"fvec3\"])**2)\n",
    "#     ggamma2.append((metadata[\"gammaFlag\"] * metadata[\"fvec3\"])**2)\n",
    "#     width_gamma.append(metadata[\"width_T_ta\"])\n",
    "#     width_gluon.append(metadata[\"width_T_tg\"])\n",
    "\n",
    "# # Calculate prefactor\n",
    "# xt = (173.0 / 1000) ** 2  # xt = (mt / mT)^2\n",
    "# width_factor = ((1000 ** 3) / (3000 ** 2)) * (1 - xt) ** 3  # Lambda = 3000 GeV (3 TeV)\n",
    "# gamma_width_factor = width_factor * np.array(ggamma2)\n",
    "# gluon_width_factor = width_factor * np.array(ggluon2)\n",
    "\n",
    "# gluon_prefactor = compute_limit.fit_prefactor(gluon_width_factor, width_gluon)\n",
    "# gamma_prefactor = compute_limit.fit_prefactor(gamma_width_factor, width_gamma)\n",
    "# print(gluon_prefactor[0][0])\n",
    "# print(gamma_prefactor)\n",
    "\n",
    "compute_limit.find_contour()"
   ]
  },
  {
   "cell_type": "code",
   "execution_count": 32,
   "id": "f2bc935c-64e5-4a84-9779-5bbe496fd9dc",
   "metadata": {
    "tags": []
   },
   "outputs": [
    {
     "data": {
      "text/plain": [
       "5.071946255293326"
      ]
     },
     "execution_count": 32,
     "metadata": {},
     "output_type": "execute_result"
    }
   ],
   "source": [
    "compute_limit.chi_square(-3, -1)"
   ]
  },
  {
   "cell_type": "code",
   "execution_count": 15,
   "id": "d53a4c6a-e151-4e34-84b4-275dda63b48e",
   "metadata": {
    "tags": []
   },
   "outputs": [],
   "source": [
    "ggluon2 = []\n",
    "ggamma2 = []\n",
    "width_gamma = []\n",
    "width_gluon = []\n",
    "width_wb = []\n",
    "for dataset, metadata in compute_limit.output[\"metadata\"][compute_limit.mass].items():\n",
    "    ggluon2.append((metadata[\"gluonFlag\"] * metadata[\"fvec3\"])**2)\n",
    "    ggamma2.append((metadata[\"gammaFlag\"] * metadata[\"fvec3\"])**2)\n",
    "    width_gamma.append(metadata[\"width_T_ta\"])\n",
    "    width_gluon.append(metadata[\"width_T_tg\"])\n",
    "    width_wb.append(metadata[\"width_T_wb\"])"
   ]
  },
  {
   "cell_type": "code",
   "execution_count": 16,
   "id": "de57b400-9974-4541-846c-766f7558d111",
   "metadata": {
    "tags": []
   },
   "outputs": [
    {
     "data": {
      "text/plain": [
       "[36.36084653673702,\n",
       " 25.250587872734048,\n",
       " 16.160376238549787,\n",
       " 9.090211634184255,\n",
       " 4.040094059637447]"
      ]
     },
     "execution_count": 16,
     "metadata": {},
     "output_type": "execute_result"
    }
   ],
   "source": [
    "width_gamma"
   ]
  },
  {
   "cell_type": "code",
   "execution_count": 17,
   "id": "fb8df910-6e71-4ead-8e29-2d90f9c2969e",
   "metadata": {
    "tags": []
   },
   "outputs": [
    {
     "data": {
      "text/plain": [
       "(array([16.16037624]), array([[1.88716062e-30]]))"
      ]
     },
     "execution_count": 17,
     "metadata": {},
     "output_type": "execute_result"
    }
   ],
   "source": [
    "compute_limit.fit_prefactor(np.array(ggamma2), width_gamma)"
   ]
  },
  {
   "cell_type": "code",
   "execution_count": 19,
   "id": "26a5ffc0-4a29-43f5-8fc6-fb177d93499c",
   "metadata": {
    "tags": []
   },
   "outputs": [
    {
     "data": {
      "text/plain": [
       "(array([145.44338615]), array([[1.15094599e-28]]))"
      ]
     },
     "execution_count": 19,
     "metadata": {},
     "output_type": "execute_result"
    }
   ],
   "source": [
    "compute_limit.fit_prefactor(np.array(ggamma2)/(3**2), width_gamma)"
   ]
  },
  {
   "cell_type": "code",
   "execution_count": 22,
   "id": "a7dd0779-7882-491b-b494-e9a72373f1c3",
   "metadata": {
    "tags": []
   },
   "outputs": [
    {
     "data": {
      "text/plain": [
       "(array([193.92451486]), array([[7.19341236e-30]]))"
      ]
     },
     "execution_count": 22,
     "metadata": {},
     "output_type": "execute_result"
    }
   ],
   "source": [
    "compute_limit.fit_prefactor(np.array(ggluon2)/(3**2), width_gluon)"
   ]
  },
  {
   "cell_type": "code",
   "execution_count": 23,
   "id": "0ceeb8ef-a3af-4d93-8306-6079f526b839",
   "metadata": {
    "tags": []
   },
   "outputs": [
    {
     "data": {
      "text/plain": [
       "(array([157.60902315]), array([[1.45666602e-28]]))"
      ]
     },
     "execution_count": 23,
     "metadata": {},
     "output_type": "execute_result"
    }
   ],
   "source": [
    "compute_limit.fit_prefactor(np.array(ggamma2)/(3**2), width_wb)"
   ]
  },
  {
   "cell_type": "code",
   "execution_count": 24,
   "id": "6223a27e-ba4f-45c1-8de1-ddf23294aa94",
   "metadata": {
    "tags": []
   },
   "outputs": [
    {
     "data": {
      "text/plain": [
       "(array([0.03244697, 0.1450741 , 1.39018592]),\n",
       " array([[ 6.71857878e-09, -1.07601664e-07,  3.37893844e-07],\n",
       "        [-1.07601664e-07,  2.14198185e-06, -7.30164628e-06],\n",
       "        [ 3.37893844e-07, -7.30164628e-06,  2.62077838e-05]]))"
      ]
     },
     "execution_count": 24,
     "metadata": {},
     "output_type": "execute_result"
    }
   ],
   "source": [
    "ggluon2 = []\n",
    "xsec_TT = []\n",
    "for dataset, metadata in compute_limit.output[\"metadata\"][compute_limit.mass].items():\n",
    "    ggluon2.append((metadata[\"gluonFlag\"] * metadata[\"fvec3\"])**2)\n",
    "    xsec_TT.append(metadata[\"xsec_TT\"])\n",
    "# sigma_TT = a + b * g3g ** 2 + c * g3g ** 4\n",
    "xsec_TT_prefactors = curve_fit(lambda x, a, b, c:  a + b * x + c * x **2, np.array(ggluon2)/(3**2), xsec_TT)\n",
    "xsec_TT_prefactors"
   ]
  },
  {
   "cell_type": "code",
   "execution_count": 30,
   "id": "cb1c2e15-4fe9-4931-aff8-dbbe836ae904",
   "metadata": {},
   "outputs": [
    {
     "data": {
      "text/plain": [
       "(array([3.09221383e-02, 1.58806875e-07, 1.36275263e-12]),\n",
       " array([[ 3.20209573e-06, -6.02675932e-12,  2.09414688e-18],\n",
       "        [-6.02675932e-12,  1.97679042e-17, -8.03297224e-24],\n",
       "        [ 2.09414688e-18, -8.03297224e-24,  3.56058954e-30]]))"
      ]
     },
     "execution_count": 30,
     "metadata": {},
     "output_type": "execute_result"
    }
   ],
   "source": [
    "g = [-1, -0.5, 0, 0.5, 1, 1.5]\n",
    "sigma = [1.555, 0.1555, 0.03265, 0.1535, 1.551, 7.287]\n",
    "curve_fit(lambda x, a, b, c: a + b * x**2 + c * x **4, np.array(g)*1000, sigma)"
   ]
  },
  {
   "cell_type": "code",
   "execution_count": 15,
   "id": "ed2ff105-0d7c-4096-adbf-c6e797539292",
   "metadata": {
    "tags": []
   },
   "outputs": [
    {
     "data": {
      "text/plain": [
       "0.14507406"
      ]
     },
     "execution_count": 15,
     "metadata": {},
     "output_type": "execute_result"
    }
   ],
   "source": [
    "9 * 0.01611934#, "
   ]
  },
  {
   "cell_type": "code",
   "execution_count": 16,
   "id": "c9e5fb78-e680-4ade-ad8e-aa843acc5ab8",
   "metadata": {
    "tags": []
   },
   "outputs": [
    {
     "data": {
      "text/plain": [
       "1.39018599"
      ]
     },
     "execution_count": 16,
     "metadata": {},
     "output_type": "execute_result"
    }
   ],
   "source": [
    "(9**2)*0.01716279"
   ]
  },
  {
   "cell_type": "code",
   "execution_count": 50,
   "id": "55056e4a-dbd0-4c1b-a2e8-e6f6e72400da",
   "metadata": {
    "tags": []
   },
   "outputs": [
    {
     "data": {
      "text/plain": [
       "array([2.25  , 1.5625, 1.    , 0.5625, 0.25  ])"
      ]
     },
     "execution_count": 50,
     "metadata": {},
     "output_type": "execute_result"
    }
   ],
   "source": [
    "np.array(ggluon2)"
   ]
  },
  {
   "cell_type": "code",
   "execution_count": 51,
   "id": "c2211e62-8b68-4824-b7cf-bda70cf59ac4",
   "metadata": {
    "tags": []
   },
   "outputs": [
    {
     "data": {
      "text/plain": [
       "array([2.50000000e-07, 1.73611111e-07, 1.11111111e-07, 6.25000000e-08,\n",
       "       2.77777778e-08])"
      ]
     },
     "execution_count": 51,
     "metadata": {},
     "output_type": "execute_result"
    }
   ],
   "source": [
    "np.array(ggluon2)/(3000**2)"
   ]
  },
  {
   "cell_type": "code",
   "execution_count": 52,
   "id": "c6889954-de53-4c55-b39e-b5da655f674a",
   "metadata": {
    "tags": []
   },
   "outputs": [
    {
     "data": {
      "text/plain": [
       "2.5e-07"
      ]
     },
     "execution_count": 52,
     "metadata": {},
     "output_type": "execute_result"
    }
   ],
   "source": [
    "2.25 /(3000**2)"
   ]
  },
  {
   "cell_type": "code",
   "execution_count": 46,
   "id": "16992223-0e84-490f-b7bf-d569ccf91322",
   "metadata": {
    "tags": []
   },
   "outputs": [
    {
     "data": {
      "text/plain": [
       "(array([ 3.04589307e-07, -3.40971311e-14]),\n",
       " array([[ 3.52087088e-13, -4.10028081e-20],\n",
       "        [-4.10028081e-20,  5.06079997e-27]]))"
      ]
     },
     "execution_count": 46,
     "metadata": {},
     "output_type": "execute_result"
    }
   ],
   "source": [
    "l = [1.000000e+03, 2.0e+03, 3.0e+03]\n",
    "s = [1.564, 0.1554, 0.06567]\n",
    "curve_fit(lambda x, b, c: b * x**2 + c * x **4, l, s)"
   ]
  },
  {
   "cell_type": "code",
   "execution_count": null,
   "id": "5b42017d-210d-4761-a9c5-2c204366444a",
   "metadata": {},
   "outputs": [],
   "source": [
    "{{-1/3000, 0.06597}, {-0.8/3000, 0.0499}, {-0.6/3000,\n",
    "    0.04036}, {-0.4/3000, 0.03552}, {-0.2/3000, 0.03292}, {0.1/3000,\n",
    "    0.03244}, {0.2/3000, 0.03308}, {0.4/3000, 0.03567}, {0.5/3000,\n",
    "    0.03745}, {0.6/3000, 0.04048}, {0.8/3000, 0.05004}, {1/3000,\n",
    "    0.06568}}"
   ]
  },
  {
   "cell_type": "code",
   "execution_count": 73,
   "id": "254a9710-48ec-48a1-8f3b-b27f972ef042",
   "metadata": {
    "tags": []
   },
   "outputs": [
    {
     "data": {
      "text/plain": [
       "(array([0.03232602, 0.0167396 , 0.01677136]),\n",
       " array([[ 6.84732377e-09, -2.94872668e-08,  2.35903839e-08],\n",
       "        [-2.94872668e-08,  2.05463601e-07, -1.88900667e-07],\n",
       "        [ 2.35903839e-08, -1.88900667e-07,  1.86891317e-07]]))"
      ]
     },
     "execution_count": 73,
     "metadata": {},
     "output_type": "execute_result"
    }
   ],
   "source": [
    "p = [-1, -0.8, -0.6, -0.4, -0.2, 0.1, 0.2, 0.4, 0.5, 0.6, 0.8, 1]\n",
    "r = [0.06597, 0.0499, 0.04036, 0.03552, 0.03292, 0.03244, 0.03308, 0.03567, 0.03745, 0.04048, 0.05004, 0.06568]\n",
    "curve_fit(lambda x, a, b, c: a + b * x**2 + c * x **4, p, r)"
   ]
  },
  {
   "cell_type": "code",
   "execution_count": 90,
   "id": "5a03db53-949e-429e-9cfe-1621101cb816",
   "metadata": {
    "tags": []
   },
   "outputs": [
    {
     "data": {
      "text/plain": [
       "(array([0.03232602, 0.15065637, 1.35848053]),\n",
       " array([[ 6.84732253e-09, -2.65385337e-07,  1.91082051e-06],\n",
       "        [-2.65385337e-07,  1.66425484e-05, -1.37708555e-04],\n",
       "        [ 1.91082051e-06, -1.37708555e-04,  1.22619363e-03]]))"
      ]
     },
     "execution_count": 90,
     "metadata": {},
     "output_type": "execute_result"
    }
   ],
   "source": [
    "p = [-1.0/3.0, -0.8/3.0, -0.6/3.0, -0.4/3.0, -0.2/3.0, 0.1/3.0, 0.2/3.0, 0.4/3.0, 0.5/3.0, 0.6/3.0, 0.8/3.0, 1/3.0]\n",
    "r = [0.06597, 0.0499, 0.04036, 0.03552, 0.03292, 0.03244, 0.03308, 0.03567, 0.03745, 0.04048, 0.05004, 0.06568]\n",
    "curve_fit(lambda x, a, b, c: a + b * x**2 + c * x **4, np.array(p), np.array(r))"
   ]
  },
  {
   "cell_type": "code",
   "execution_count": 56,
   "id": "3cfa8fea-1e3c-4d2f-8b84-de51e6e4376c",
   "metadata": {
    "tags": []
   },
   "outputs": [],
   "source": [
    "for degree in [0, 2, 4]:\n",
    "    coeffs = np.polyfit(p, r, degree)\n",
    "    poly = np.poly1d(coeffs)"
   ]
  },
  {
   "cell_type": "code",
   "execution_count": 57,
   "id": "324e1bcb-0f1c-4bf5-b447-698aaf2b0bf3",
   "metadata": {
    "tags": []
   },
   "outputs": [
    {
     "data": {
      "text/plain": [
       "poly1d([ 1.35975036e+12, -8.82325588e+06,  1.50621803e+05,  6.28306141e-01,\n",
       "        3.23162983e-02])"
      ]
     },
     "execution_count": 57,
     "metadata": {},
     "output_type": "execute_result"
    }
   ],
   "source": [
    "poly"
   ]
  },
  {
   "cell_type": "code",
   "execution_count": 67,
   "id": "0a47a41e-8ce9-44da-ad02-fbefc038d2d4",
   "metadata": {
    "tags": []
   },
   "outputs": [
    {
     "data": {
      "text/plain": [
       "0.049908913055999996"
      ]
     },
     "execution_count": 67,
     "metadata": {},
     "output_type": "execute_result"
    }
   ],
   "source": [
    "def f(x):\n",
    "    return 0.03232602 + 0.0167396 * x**2 + 0.01677136 * x**4\n",
    "    \n",
    "f(-0.8)"
   ]
  },
  {
   "cell_type": "code",
   "execution_count": 66,
   "id": "aa14da7d-afae-4cb7-a073-2416e5f5e78c",
   "metadata": {
    "tags": []
   },
   "outputs": [
    {
     "data": {
      "text/plain": [
       "0.04990886380246914"
      ]
     },
     "execution_count": 66,
     "metadata": {},
     "output_type": "execute_result"
    }
   ],
   "source": [
    "def f(x):\n",
    "    return 0.032326 + 150656 * x**2 + 1.35848e12 * x**4\n",
    "    \n",
    "f(-0.8/3000)"
   ]
  },
  {
   "cell_type": "code",
   "execution_count": 75,
   "id": "86bf84b6-7bfd-40c4-a284-fa8fcc4ba326",
   "metadata": {
    "tags": []
   },
   "outputs": [
    {
     "data": {
      "text/plain": [
       "0.0423379137800016"
      ]
     },
     "execution_count": 75,
     "metadata": {},
     "output_type": "execute_result"
    }
   ],
   "source": [
    "def f(x):\n",
    "    return 3.02090537e-02 + 3.03221502e+05 * x**2 + 1.00000000e+00 * x**4\n",
    "    \n",
    "f(0.6/3000)"
   ]
  },
  {
   "cell_type": "code",
   "execution_count": 77,
   "id": "b2ff18d5-fb41-4e4d-9ab3-b416d1c54726",
   "metadata": {
    "tags": []
   },
   "outputs": [
    {
     "data": {
      "text/plain": [
       "float"
      ]
     },
     "execution_count": 77,
     "metadata": {},
     "output_type": "execute_result"
    }
   ],
   "source": [
    "type(p[0])"
   ]
  },
  {
   "cell_type": "code",
   "execution_count": 79,
   "id": "1ea8b7f9-0561-4aee-8b59-96ad21d78678",
   "metadata": {
    "tags": []
   },
   "outputs": [
    {
     "data": {
      "text/plain": [
       "0.0003333333333333333"
      ]
     },
     "execution_count": 79,
     "metadata": {},
     "output_type": "execute_result"
    }
   ],
   "source": [
    "1.0/3000.0"
   ]
  },
  {
   "cell_type": "code",
   "execution_count": 80,
   "id": "f74c52fb-d223-42d6-8483-15100b59c36c",
   "metadata": {
    "tags": []
   },
   "outputs": [
    {
     "data": {
      "text/plain": [
       "[-0.0003333333333333333,\n",
       " -0.0002666666666666667,\n",
       " -0.00019999999999999998,\n",
       " -0.00013333333333333334,\n",
       " -6.666666666666667e-05,\n",
       " 3.3333333333333335e-05,\n",
       " 6.666666666666667e-05,\n",
       " 0.00013333333333333334,\n",
       " 0.00016666666666666666,\n",
       " 0.00019999999999999998,\n",
       " 0.0002666666666666667,\n",
       " 0.0003333333333333333]"
      ]
     },
     "execution_count": 80,
     "metadata": {},
     "output_type": "execute_result"
    }
   ],
   "source": [
    "p"
   ]
  },
  {
   "cell_type": "code",
   "execution_count": 88,
   "id": "c4a5b157-1cf9-4184-892d-cd06f85f415e",
   "metadata": {
    "tags": []
   },
   "outputs": [
    {
     "name": "stdout",
     "output_type": "stream",
     "text": [
      "NumPy array dtype: float64\n"
     ]
    }
   ],
   "source": [
    "arr = np.array(r)\n",
    "print(f\"NumPy array dtype: {arr.dtype}\")"
   ]
  },
  {
   "cell_type": "code",
   "execution_count": 86,
   "id": "7c70265e-b5e0-4080-8431-57ab664984e5",
   "metadata": {
    "tags": []
   },
   "outputs": [
    {
     "data": {
      "text/plain": [
       "array([-3.33333333e-04, -2.66666667e-04, -2.00000000e-04, -1.33333333e-04,\n",
       "       -6.66666667e-05,  3.33333333e-05,  6.66666667e-05,  1.33333333e-04,\n",
       "        1.66666667e-04,  2.00000000e-04,  2.66666667e-04,  3.33333333e-04])"
      ]
     },
     "execution_count": 86,
     "metadata": {},
     "output_type": "execute_result"
    }
   ],
   "source": [
    "np.array(p)"
   ]
  },
  {
   "cell_type": "code",
   "execution_count": 4,
   "id": "4ef10909-853a-401d-b94f-6d97b11e16ae",
   "metadata": {},
   "outputs": [
    {
     "data": {
      "text/plain": [
       "19.67513757268249"
      ]
     },
     "execution_count": 4,
     "metadata": {},
     "output_type": "execute_result"
    }
   ],
   "source": [
    "from scipy.stats import chi2\n",
    "chi2.ppf(0.95, df=11)"
   ]
  },
  {
   "cell_type": "code",
   "execution_count": 40,
   "id": "a97bb210-b99c-4d28-a359-2205d9937537",
   "metadata": {
    "tags": []
   },
   "outputs": [
    {
     "data": {
      "text/plain": [
       "6.533333333333333"
      ]
     },
     "execution_count": 40,
     "metadata": {},
     "output_type": "execute_result"
    }
   ],
   "source": [
    "98/15"
   ]
  },
  {
   "cell_type": "code",
   "execution_count": null,
   "id": "ddea8c8d-3ea5-4219-bf59-103bf2d64528",
   "metadata": {},
   "outputs": [],
   "source": []
  }
 ],
 "metadata": {
  "kernelspec": {
   "display_name": "Python 3 (ipykernel)",
   "language": "python",
   "name": "python3"
  },
  "language_info": {
   "codemirror_mode": {
    "name": "ipython",
    "version": 3
   },
   "file_extension": ".py",
   "mimetype": "text/x-python",
   "name": "python",
   "nbconvert_exporter": "python",
   "pygments_lexer": "ipython3",
   "version": "3.7.17"
  }
 },
 "nbformat": 4,
 "nbformat_minor": 5
}
